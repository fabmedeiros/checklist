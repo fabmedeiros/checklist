{
 "cells": [
  {
   "cell_type": "code",
   "execution_count": null,
   "metadata": {},
   "outputs": [],
   "source": [
    "# @hidden_cell\n",
    "from caesar import Caesar\n",
    "\n",
    "cifra = Caesar()\n",
    "print('TESTE DA CIFRA DE CESAR')\n",
    "texto = input('Texto plano: ')\n",
    "chave = int(input('Chave numerica: '))\n",
    "cifrado = cifra.encrypt(texto, chave)\n",
    "print('\\n')\n",
    "print('  Texto cifrado: ', cifrado)\n",
    "print('Texto decifrado: ', cifra.decrypt(cifrado, chave))"
   ]
  },
  {
   "cell_type": "code",
   "execution_count": null,
   "metadata": {},
   "outputs": [],
   "source": []
  }
 ],
 "metadata": {
  "kernelspec": {
   "display_name": "Python 3",
   "language": "python",
   "name": "python3"
  },
  "language_info": {
   "codemirror_mode": {
    "name": "ipython",
    "version": 3
   },
   "file_extension": ".py",
   "mimetype": "text/x-python",
   "name": "python",
   "nbconvert_exporter": "python",
   "pygments_lexer": "ipython3",
   "version": "3.6.6"
  }
 },
 "nbformat": 4,
 "nbformat_minor": 2
}
